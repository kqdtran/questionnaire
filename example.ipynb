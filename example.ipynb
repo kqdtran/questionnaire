{
 "metadata": {
  "name": ""
 },
 "nbformat": 3,
 "nbformat_minor": 0,
 "worksheets": [
  {
   "cells": [
    {
     "cell_type": "markdown",
     "metadata": {},
     "source": [
      "Import basic Python libraries for use in your program: [os.path](http://docs.python.org/2/library/os.path.html) and [ConfigParser](http://docs.python.org/2/library/configparser.html)"
     ]
    },
    {
     "cell_type": "code",
     "collapsed": false,
     "input": [
      "import os.path\n",
      "import ConfigParser\n",
      "import re"
     ],
     "language": "python",
     "metadata": {},
     "outputs": [],
     "prompt_number": 17
    },
    {
     "cell_type": "markdown",
     "metadata": {},
     "source": [
      "An example of reading data from a Google Spreadsheet using the gspread library: http://stackoverflow.com/a/18296318/462302\n",
      "\n",
      "First you'll need to install the gspread library on your virtual machine using: `sudo pip install gspread`"
     ]
    },
    {
     "cell_type": "code",
     "collapsed": false,
     "input": [
      "import gspread"
     ],
     "language": "python",
     "metadata": {},
     "outputs": [],
     "prompt_number": 2
    },
    {
     "cell_type": "markdown",
     "metadata": {},
     "source": [
      "Define `take(n, iterable)` which is a convenience function to limit the amount of output that you print. Useful when you have lots of data that will clutter up your screen!"
     ]
    },
    {
     "cell_type": "code",
     "collapsed": false,
     "input": [
      "from itertools import islice\n",
      "def take(n, iterable):\n",
      "    \"Return first n items of the iterable as a list\"\n",
      "    return list(islice(iterable, n))"
     ],
     "language": "python",
     "metadata": {},
     "outputs": [],
     "prompt_number": 3
    },
    {
     "cell_type": "markdown",
     "metadata": {},
     "source": [
      "Read the username and password from the `[google]` section of the `stat157.cfg` config file from your virtual machine home directory."
     ]
    },
    {
     "cell_type": "code",
     "collapsed": false,
     "input": [
      "configfile = os.path.join('.', 'stat157.cfg')\n",
      "config = ConfigParser.SafeConfigParser()\n",
      "config.read(configfile)\n",
      "username = config.get('google', 'username')\n",
      "password = config.get('google', 'password')"
     ],
     "language": "python",
     "metadata": {},
     "outputs": [],
     "prompt_number": 4
    },
    {
     "cell_type": "markdown",
     "metadata": {},
     "source": [
      "Read the docid of the Google Spreadsheet from the config file."
     ]
    },
    {
     "cell_type": "code",
     "collapsed": false,
     "input": [
      "docid = config.get('questionnaire', 'docid')\n",
      "client = gspread.login(username, password)\n",
      "spreadsheet = client.open_by_key(docid)\n",
      "worksheet = spreadsheet.get_worksheet(0)\n",
      "print docid"
     ],
     "language": "python",
     "metadata": {},
     "outputs": [
      {
       "output_type": "stream",
       "stream": "stdout",
       "text": [
        "0Aj1QXjQixf-SdENDS1FzR1FGNE1kLUk0WGR1SW5peVE\n"
       ]
      }
     ],
     "prompt_number": 5
    },
    {
     "cell_type": "markdown",
     "metadata": {},
     "source": [
      "Add field names to this list to include the column from the Google Spreadsheet in the filtered data output. You should choose one other column in addition to the learning style column. Refer to README.md from the homework assignment."
     ]
    },
    {
     "cell_type": "code",
     "collapsed": false,
     "input": [
      "LEARNING_STYLE = 'What is your learning style?'\n",
      "EXPERIENCE = 'Have you had any personal experience in any of the following topics?'\n",
      "\n",
      "fieldnames = [EXPERIENCE, LEARNING_STYLE]\n",
      "print fieldnames"
     ],
     "language": "python",
     "metadata": {},
     "outputs": [
      {
       "output_type": "stream",
       "stream": "stdout",
       "text": [
        "['Have you had any personal experience in any of the following topics?', 'What is your learning style?']\n"
       ]
      }
     ],
     "prompt_number": 6
    },
    {
     "cell_type": "markdown",
     "metadata": {},
     "source": [
      "Read in ALL rows of data from the Google Spreadsheet, but filter out columns that are not listed in `fieldnames`."
     ]
    },
    {
     "cell_type": "code",
     "collapsed": false,
     "input": [
      "filtered_data = []\n",
      "for row in worksheet.get_all_records():\n",
      "    filtered_data.append({k:v for k,v in row.iteritems() \n",
      "                          if k in fieldnames})\n",
      "print \"Number of rows: {}\".format(len(filtered_data))"
     ],
     "language": "python",
     "metadata": {},
     "outputs": [
      {
       "output_type": "stream",
       "stream": "stdout",
       "text": [
        "Number of rows: 48\n"
       ]
      }
     ],
     "prompt_number": 7
    },
    {
     "cell_type": "markdown",
     "metadata": {},
     "source": [
      "* Iterate over the data, extract out the **experience** and put the items into a dictionary\n",
      "* In the same iteration, use regex to strip the scores and the learning style of every students"
     ]
    },
    {
     "cell_type": "code",
     "collapsed": false,
     "input": [
      "experienceDict = {}\n",
      "scores = []  # Visual, Aural, Read/Write, Kinesthetic in that order\n",
      "learningStyles = []\n",
      "\n",
      "for row in filtered_data:\n",
      "    experience = row[EXPERIENCE].split(',')  # split string by ','\n",
      "    \n",
      "    # Search for skill\n",
      "    for skill in experience:\n",
      "        skill = skill.strip().lower()  # strip whitespace\n",
      "        if skill != 'none' and skill != 'no':\n",
      "            if skill in experienceDict:\n",
      "                experienceDict[skill] += 1\n",
      "            else:\n",
      "                experienceDict[skill] = 1\n",
      "                \n",
      "    # Search for learning style\n",
      "    learningStyle = row[LEARNING_STYLE]\n",
      "    currentScore = [int(s) for s in re.findall('[0-9]+', learningStyle)]\n",
      "    if currentScore:\n",
      "        scores.append(currentScore)\n",
      "    style = [s.strip().lower() for s in \n",
      "             re.findall(\"(?<=You have a)(.*)(?=learning preference)\", learningStyle)]\n",
      "    if style:\n",
      "        learningStyles.append(style[0])\n",
      "    \n",
      "experienceDict = sorted(experienceDict.items(), key=lambda (k, v): v)"
     ],
     "language": "python",
     "metadata": {},
     "outputs": [],
     "prompt_number": 41
    },
    {
     "cell_type": "code",
     "collapsed": false,
     "input": [
      "### DICTIONARY FOR EXPERIENCE AND HOW MANY PEOPLE ARE FAMILIAR WITH A SKILL\n",
      "print experienceDict\n",
      "\n",
      "### SCORES FOR THE LEARNING STYLE\n",
      "print scores\n",
      "\n",
      "### ACTUAL LEARNING STYLE (WE CAN OMIT IT SINCE THE DATA IS MESSY)\n",
      "print learningStyles"
     ],
     "language": "python",
     "metadata": {},
     "outputs": [
      {
       "output_type": "stream",
       "stream": "stdout",
       "text": [
        "{'xml': 11, 'latex': 14, 'github': 12, 'mimd/simd': 1, 'stat 134/135/153/154': 1, 'probability': 30, 'collaborative data science': 2, 'javascript': 8, 'working in stat 157': 1, 'd3': 1, 'jquery': 3, 'ipython notebook or python': 9, 'html5': 8, 'academic publishing': 2, 'statistics': 31, 'r': 2, 'blogging': 13}\n",
        "[[3, 5, 4, 7], [0, 10, 14, 5], [9, 9, 3, 3], [8, 7, 8, 5], [8, 1, 8, 5], [13, 10, 8, 11], [10, 4, 5, 10], [15, 9, 6, 11], [5, 1, 4, 6], [3, 6, 6, 7], [10, 10, 2, 13], [4, 3, 1, 8], [4, 3, 11, 4], [11, 11, 6, 9], [4, 4, 7, 1], [9, 7, 10, 12], [10, 7, 11, 7], [9, 8, 10, 11], [7, 11, 4, 8], [6, 4, 7, 5], [6, 5, 7, 5], [5, 3, 9, 6], [11, 11, 9, 5], [12, 10, 13, 10], [2, 3, 6, 5], [1, 4, 4, 7], [9, 7, 5, 5], [9, 10, 10, 9], [9, 11, 3, 8], [7, 8, 9, 10], [2, 6, 4, 4]]\n",
        "['mild kinesthetic', 'mild read/write', 'multimodal (va)', 'multimodal (vr)', 'multimodal (vark)', 'multimodal (ark)', u'multimodal (vak)', 'strong kinesthetic', 'multimodal (vark)', 'multimodal (vark)', 'multimodal (vark)', 'multimodal (rk)', 'multimodal (vak)', 'multimodal (vark)', 'mild aural']\n"
       ]
      }
     ],
     "prompt_number": 40
    },
    {
     "cell_type": "code",
     "collapsed": false,
     "input": [
      "### PLOTTING"
     ],
     "language": "python",
     "metadata": {},
     "outputs": []
    }
   ],
   "metadata": {}
  }
 ]
}